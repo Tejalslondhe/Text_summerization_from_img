{
 "cells": [
  {
   "cell_type": "markdown",
   "id": "c6566b71-99cb-49e0-9077-4cdd9261ad43",
   "metadata": {},
   "source": [
    "# Read Text From Inages Using Pytesseract"
   ]
  },
  {
   "cell_type": "code",
   "execution_count": 57,
   "id": "2734f06e-260b-4d24-8a93-0b46ba4be68b",
   "metadata": {},
   "outputs": [],
   "source": [
    "import pytesseract\n",
    "pytesseract.pytesseract.tesseract_cmd = \"C:\\\\Program Files\\\\Tesseract-OCR\\\\tesseract.exe\""
   ]
  },
  {
   "cell_type": "code",
   "execution_count": 58,
   "id": "05d3bdc6-e5e1-4a83-9fab-a46de6cbe175",
   "metadata": {},
   "outputs": [],
   "source": [
    "import cv2"
   ]
  },
  {
   "cell_type": "code",
   "execution_count": 59,
   "id": "41e6c2c7-93af-403f-b6c2-95615e423e62",
   "metadata": {},
   "outputs": [],
   "source": [
    "img=cv2.imread(\"Image_2.PNG\")\n",
    "cv2.imshow(\"sample image\",img)\n",
    "cv2.waitKey(0)\n",
    "cv2.destroyAllWindows()"
   ]
  },
  {
   "cell_type": "code",
   "execution_count": 60,
   "id": "87514128-b209-4dbf-ad73-77c9170ab353",
   "metadata": {},
   "outputs": [
    {
     "name": "stdout",
     "output_type": "stream",
     "text": [
      "“DON'T TREAT PEOPLE AS BAD\n",
      "AS THEY ARE. TREAT THEM AS\n",
      "GOOD AS YOU ARE.”\n",
      "\n"
     ]
    }
   ],
   "source": [
    "text = pytesseract.image_to_string(img)\n",
    "print(text)"
   ]
  },
  {
   "cell_type": "code",
   "execution_count": 61,
   "id": "f653c7c8-d501-4481-9afd-e36fc128038b",
   "metadata": {},
   "outputs": [],
   "source": [
    "img=cv2.imread(\"Capture.PNG\")\n",
    "cv2.imshow(\"sample image\",img)\n",
    "cv2.waitKey(0)\n",
    "cv2.destroyAllWindows()"
   ]
  },
  {
   "cell_type": "code",
   "execution_count": 62,
   "id": "5ab9606a-961b-46c5-8f33-09aa0514c212",
   "metadata": {},
   "outputs": [
    {
     "name": "stdout",
     "output_type": "stream",
     "text": [
      "IT WAS a case of ‘back to\n",
      "our roots’ at a Wirral\n",
      "school last week with the\n",
      "unveiling of a Viking\n",
      "mural created by pupils.\n",
      "\n",
      "All 230 pupils at Thingwall\n",
      "Primary Schoo) had been in-\n",
      "volved in the research stage of\n",
      "work on the painting, which is\n",
      "an impressive eight metres long.\n",
      "\n",
      "From their efforts, the 60 con-\n",
      "tributions were used as the ba-\n",
      "sis for the project, which con-\n",
      "sists of a painting on a plywood\n",
      "backing.\n",
      "\n",
      "And last Friday the mural was\n",
      "officially unveiled in front of a\n",
      "group of ViP guests, including\n",
      "Wirral director of eduction\n",
      "Chris Rice, senior inspector for\n",
      "primary education Paul\n",
      "Latham, and\n",
      "\n",
      "link inspector Straughan.\n",
      "The event was also attended\n",
      "by Peter Copland, from the Nor-\n",
      "wegian Consulate in Liverpool,\n",
      "\n"
     ]
    }
   ],
   "source": [
    "text = pytesseract.image_to_string(img)\n",
    "print(text)"
   ]
  },
  {
   "cell_type": "code",
   "execution_count": 63,
   "id": "e66f74d4-6387-418c-b4ea-1df048384806",
   "metadata": {},
   "outputs": [],
   "source": [
    "img=cv2.imread(\"Capture1.PNG\")\n",
    "cv2.imshow(\"sample image\",img)\n",
    "cv2.waitKey(0)\n",
    "cv2.destroyAllWindows()"
   ]
  },
  {
   "cell_type": "code",
   "execution_count": 64,
   "id": "00a60b40-0c74-49f6-acbd-990cf2e2665d",
   "metadata": {},
   "outputs": [
    {
     "name": "stdout",
     "output_type": "stream",
     "text": [
      "IT WAS a case of ‘back to\n",
      "our roots’ at a Wirral\n",
      "school last week with the\n",
      "unveiling of a Viking\n",
      "mural created by pupils.\n",
      "\n",
      "All 230 pupils at Thingwall\n",
      "Primary School had been in-\n",
      "volved in the research stage of\n",
      "work on the painting, which is\n",
      "an impressive eight metres long,\n",
      "\n",
      "From their efforts, the 60 con-\n",
      "tributions were used as the ba-\n",
      "sis for the project, which con-\n",
      "sists of a painting on a plywood\n",
      "backing.\n",
      "\n",
      "And last Friday the mural was\n",
      "officially unveiled in front of a\n",
      "group of ViP guests, including\n",
      "Wirral director of eduction\n",
      "Chris Rice, senior inspector for\n",
      "Primary education Paul\n",
      "Latham, and Thingwall School\n",
      "link inspector Straughan.\n",
      "\n",
      "The event was also attended\n",
      "by Peter Copland, from the Nor-\n",
      "wegian Consulate in Liverpool,\n",
      "\n",
      "by DAVID HARDING\n",
      "\n",
      "in recognition of the Viking\n",
      "links between Wirral and Nor-\n",
      "way, while Angela Lakey, of the\n",
      "Thingwail Residents’ Associa-\n",
      "\n",
      "tion, presented the school with *\n",
      "\n",
      "£50 towards its funds as part of\n",
      "the association’s Jubilee cele-\n",
      "brations.\n",
      "\n",
      "Andrew McCartney, the head-\n",
      "teacher of the school in Pensby\n",
      "Road, said the mural, which fea-\n",
      "tures a Viking scene as its cen-\n",
      "trepiece, was created undér the\n",
      "guidance of Lancashire artist\n",
      "Bryan Edmondson.\n",
      "\n",
      "“All the children were involved\n",
      "in two days of researching mate-\n",
      "rial, drawing figures and land-\n",
      "scapes and aspects of schoo! life.\n",
      "\n",
      "“Bryan and a group of Year 6\n",
      "children then selected 60 of\n",
      "these drawings that we jut into\n",
      "the final painting.”\n",
      "\n",
      "In addition to pupils, staff, par-\n",
      "ents and grandparents ali Jent a\n",
      "\n",
      "hand with the painting of the\n",
      "mural, which impressed the\n",
      "school’s guests last week.\n",
      "\n",
      "Mr McCartney said last Fri-\n",
      "day's ceremony had been bril-\n",
      "liant. ‘It just came together re-\n",
      "ally well and was a nice\n",
      "atmosphere,\" he addod.\n",
      "\n",
      "At the event, the pupils dis-\n",
      "cussed the arrival of the Vikings\n",
      "in the area 1,100 years ago, and\n",
      "the origins of the name Thing\n",
      "\n",
      "j HERITAGE:\n",
      "Pupils, staff\n",
      "and\n",
      "\n",
      "H residents\n",
      "celebrate the\n",
      "\n",
      "“We also a few commu-\n",
      "\n",
      "nity songs and presented our\n",
      "guesis with commemorative\n",
      "mugs,’ added Mr McCartney.\n",
      "@ THE Thingwall Primary\n",
      "School project is one of a series\n",
      "of activities marking the 1,100th\n",
      "anniversary of the arrival of the\n",
      "Vikings in Wirral.\n",
      "\n",
      "They were driven out of Dublin\n",
      "in 902 AD and arrived in Wirral\n",
      "with their Manwamen leader In-\n",
      "gimund. ..\n",
      "\n"
     ]
    }
   ],
   "source": [
    "text = pytesseract.image_to_string(img)\n",
    "print(text)"
   ]
  },
  {
   "cell_type": "code",
   "execution_count": 65,
   "id": "9e336cdd-f020-4c34-8307-b1aa204998d6",
   "metadata": {},
   "outputs": [],
   "source": [
    "img=cv2.imread(\"handwriting.PNG\")\n",
    "cv2.imshow(\"sample image\",img)\n",
    "cv2.waitKey(0)\n",
    "cv2.destroyAllWindows()"
   ]
  },
  {
   "cell_type": "code",
   "execution_count": 66,
   "id": "44c08d34-8c2a-4660-aa3a-6cae524b9332",
   "metadata": {},
   "outputs": [
    {
     "name": "stdout",
     "output_type": "stream",
     "text": [
      "Hi Redait |\n",
      "_My friends pil wes olen Cony tnt\n",
      "ant nandwntin I: oy ie\n",
      "\n",
      "\\'d lov etme and asso\n",
      "\n",
      "cK Cample.\n",
      "¢ <a ie OF Your hanawriting ac\n",
      "| i NE wei\n",
      "oy ea\n",
      "\n",
      "ae | ane\n",
      "\n",
      "Ife pentane ip ne\n",
      "\n",
      "\n"
     ]
    }
   ],
   "source": [
    "text = pytesseract.image_to_string(img)\n",
    "print(text)"
   ]
  },
  {
   "cell_type": "code",
   "execution_count": 67,
   "id": "74eda65e-a354-4cef-a5f3-4dfec6ba8f89",
   "metadata": {},
   "outputs": [],
   "source": [
    "img=cv2.imread(\"Invoice.PNG\")\n",
    "cv2.imshow(\"sample image\",img)\n",
    "cv2.waitKey(0)\n",
    "cv2.destroyAllWindows()"
   ]
  },
  {
   "cell_type": "code",
   "execution_count": 68,
   "id": "8991a96b-1a01-48eb-a388-990e62a5ecfc",
   "metadata": {},
   "outputs": [
    {
     "name": "stdout",
     "output_type": "stream",
     "text": [
      "Your Company Name\n",
      "Company Address\n",
      "\n",
      "City, State & Zip\n",
      "\n",
      "Phone Number\n",
      "Email and/or website Invoice No.\n",
      "Date:\n",
      "‘Company Name ‘Company Name\n",
      "Adgress Adaress\n",
      "Address Address\n",
      "City, State, Zip Code City, State, Zip Code\n",
      "QTY DESCRIPTION UNIT COST TOTAL\n",
      "sup TOTAL\n",
      "Thank you DISCOUNT\n",
      "I Tax\n",
      "TOTAL\n",
      "\n",
      "Ithas been a pleasure doing business with you.\n",
      "\n",
      "\n"
     ]
    }
   ],
   "source": [
    "text = pytesseract.image_to_string(img)\n",
    "print(text)"
   ]
  },
  {
   "cell_type": "code",
   "execution_count": null,
   "id": "68a02ee1-5d4b-4d21-a18e-341034638647",
   "metadata": {},
   "outputs": [],
   "source": []
  }
 ],
 "metadata": {
  "kernelspec": {
   "display_name": "Python 3 (ipykernel)",
   "language": "python",
   "name": "python3"
  },
  "language_info": {
   "codemirror_mode": {
    "name": "ipython",
    "version": 3
   },
   "file_extension": ".py",
   "mimetype": "text/x-python",
   "name": "python",
   "nbconvert_exporter": "python",
   "pygments_lexer": "ipython3",
   "version": "3.8.5"
  }
 },
 "nbformat": 4,
 "nbformat_minor": 5
}
